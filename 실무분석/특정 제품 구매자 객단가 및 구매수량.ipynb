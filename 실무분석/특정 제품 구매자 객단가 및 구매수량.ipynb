{
 "cells": [
  {
   "cell_type": "markdown",
   "metadata": {},
   "source": [
    "## 톤업, 컬러 제품 포함하여 구매한 고객의 구매 패턴\n",
    "\n",
    "- 가설:  톤업 또는 컬러 제품을 포함하여 구매하는 고객들은 아닌 고객보다 주문 별 구매 수량이 많을 것이다. 왜냐하면 풀컬러 제품은 다른 제품과 믹스매치해서 사용하기 때문에"
   ]
  },
  {
   "cell_type": "code",
   "execution_count": 44,
   "metadata": {},
   "outputs": [],
   "source": [
    "import pandas as pd"
   ]
  },
  {
   "cell_type": "code",
   "execution_count": 45,
   "metadata": {},
   "outputs": [],
   "source": [
    "# 분석하고 싶은 제품 모델명 리스트\n",
    "toneup=pd.read_csv(\"../../data/product/toneup.csv\",encoding='ms949')"
   ]
  },
  {
   "cell_type": "code",
   "execution_count": 46,
   "metadata": {},
   "outputs": [],
   "source": [
    "# 2020년 주문내역\n",
    "s20=pd.read_csv(\"../../data/sales/2020.csv\",encoding='ms949') # 2020 01 01 ~ 2020 60 30\n",
    "s2007=pd.read_csv(\"../../data/sales/200709.csv\",encoding='ms949') # 2020 07 01 ~ 2020 07 09"
   ]
  },
  {
   "cell_type": "code",
   "execution_count": 47,
   "metadata": {},
   "outputs": [],
   "source": [
    "# 주문서 합치기\n",
    "s=pd.concat([s20,s2007])"
   ]
  },
  {
   "cell_type": "markdown",
   "metadata": {},
   "source": [
    "### 주문서 테이블 구조\n",
    "\n",
    "- row는 상품 1개의 정보로 되어 있음 \n",
    "- 주문번호 컬럼과 모델명을 합쳐서 unique로 사용할 수 있음 (주문 하나에 여러상품이 포함될 경우 각 상품 row는 같은 주문번호를 가지기 때문에 주문번호 단독으로 unique로 쓸수 없음)"
   ]
  },
  {
   "cell_type": "code",
   "execution_count": 144,
   "metadata": {},
   "outputs": [
    {
     "data": {
      "text/html": [
       "<div>\n",
       "<style scoped>\n",
       "    .dataframe tbody tr th:only-of-type {\n",
       "        vertical-align: middle;\n",
       "    }\n",
       "\n",
       "    .dataframe tbody tr th {\n",
       "        vertical-align: top;\n",
       "    }\n",
       "\n",
       "    .dataframe thead th {\n",
       "        text-align: right;\n",
       "    }\n",
       "</style>\n",
       "<table border=\"1\" class=\"dataframe\">\n",
       "  <thead>\n",
       "    <tr style=\"text-align: right;\">\n",
       "      <th></th>\n",
       "      <th>주문번호</th>\n",
       "      <th>고객명</th>\n",
       "      <th>모델명</th>\n",
       "      <th>수량</th>\n",
       "    </tr>\n",
       "  </thead>\n",
       "  <tbody>\n",
       "    <tr>\n",
       "      <td>0</td>\n",
       "      <td>1</td>\n",
       "      <td>홍길동</td>\n",
       "      <td>바나나</td>\n",
       "      <td>1</td>\n",
       "    </tr>\n",
       "    <tr>\n",
       "      <td>1</td>\n",
       "      <td>1</td>\n",
       "      <td>홍길동</td>\n",
       "      <td>사과</td>\n",
       "      <td>3</td>\n",
       "    </tr>\n",
       "    <tr>\n",
       "      <td>2</td>\n",
       "      <td>1</td>\n",
       "      <td>홍길동</td>\n",
       "      <td>포도</td>\n",
       "      <td>2</td>\n",
       "    </tr>\n",
       "    <tr>\n",
       "      <td>3</td>\n",
       "      <td>2</td>\n",
       "      <td>김나나</td>\n",
       "      <td>바나나</td>\n",
       "      <td>1</td>\n",
       "    </tr>\n",
       "    <tr>\n",
       "      <td>4</td>\n",
       "      <td>3</td>\n",
       "      <td>이도도</td>\n",
       "      <td>바나나</td>\n",
       "      <td>3</td>\n",
       "    </tr>\n",
       "  </tbody>\n",
       "</table>\n",
       "</div>"
      ],
      "text/plain": [
       "   주문번호  고객명  모델명  수량\n",
       "0     1  홍길동  바나나   1\n",
       "1     1  홍길동   사과   3\n",
       "2     1  홍길동   포도   2\n",
       "3     2  김나나  바나나   1\n",
       "4     3  이도도  바나나   3"
      ]
     },
     "execution_count": 144,
     "metadata": {},
     "output_type": "execute_result"
    }
   ],
   "source": [
    "#샘플\n",
    "data = {\n",
    "    '주문번호' : [1,1,1,2,3],\n",
    "    '고객명' : ['홍길동','홍길동','홍길동','김나나','이도도'],\n",
    "    '모델명' :['바나나','사과','포도','바나나','바나나'],\n",
    "    '수량' : [1,3,2,1,3]\n",
    "}\n",
    "df = pd.DataFrame(data)\n",
    "df"
   ]
  },
  {
   "cell_type": "markdown",
   "metadata": {},
   "source": [
    "위 샘플 테이블 구조로 되어 있는데, 위 테이블을 해석하면 주문 고객은 홍길동, 김나나, 이도도로 세명이고\n",
    "홍길동이 주문한 주문번호 1번에는 바나나1개, 사과3개, 포도 2개, 김나나가 주문한 주문번호 2번에는 바나나 1개, 이도도가 주문한 주문번호 3번에는 바나나3개 있음"
   ]
  },
  {
   "cell_type": "markdown",
   "metadata": {},
   "source": [
    "## preprocessing"
   ]
  },
  {
   "cell_type": "code",
   "execution_count": 48,
   "metadata": {},
   "outputs": [],
   "source": [
    "s=s[s['결제상태'].str.contains('입금완료')]"
   ]
  },
  {
   "cell_type": "code",
   "execution_count": 49,
   "metadata": {
    "scrolled": true
   },
   "outputs": [],
   "source": [
    "s['입금확인일(결제일)']=pd.to_datetime(s['입금확인일(결제일)'])\n",
    "s['결제월']=s['입금확인일(결제일)'].dt.month"
   ]
  },
  {
   "cell_type": "code",
   "execution_count": 50,
   "metadata": {},
   "outputs": [],
   "source": [
    "s.loc[s['모델명'].isnull(),'모델명'] = s.loc[s['모델명'].isnull(),'옵션 관리코드']"
   ]
  },
  {
   "cell_type": "code",
   "execution_count": 51,
   "metadata": {},
   "outputs": [
    {
     "name": "stdout",
     "output_type": "stream",
     "text": [
      "톤업,컬러 제품 squ: 125\n"
     ]
    }
   ],
   "source": [
    "toneup_model=list(toneup['모델명'])\n",
    "print(\"톤업,컬러 제품 squ:\",len(toneup_model))"
   ]
  },
  {
   "cell_type": "code",
   "execution_count": null,
   "metadata": {},
   "outputs": [],
   "source": []
  },
  {
   "cell_type": "code",
   "execution_count": null,
   "metadata": {},
   "outputs": [],
   "source": []
  },
  {
   "cell_type": "markdown",
   "metadata": {},
   "source": [
    "## aggfunc\n",
    "\n",
    "- 주문내역에서 판매 된 제품이 toneup_model 리스트에 포함된 제품인지 확인하는 컬럼 추가하여 톤업 포함 주문과 아닌 주문 구별"
   ]
  },
  {
   "cell_type": "code",
   "execution_count": 54,
   "metadata": {},
   "outputs": [],
   "source": [
    "s['톤업여부']=s['모델명'].isin(toneup_model)"
   ]
  },
  {
   "cell_type": "code",
   "execution_count": 67,
   "metadata": {},
   "outputs": [],
   "source": [
    "s1=s[['주문번호','모델명','주문품목 수량','주문품목 결제금액','결제월','톤업여부']]\n",
    "s2=s[['주문번호','결제금액(주문전체)','결제월','톤업여부']]"
   ]
  },
  {
   "cell_type": "code",
   "execution_count": 83,
   "metadata": {},
   "outputs": [],
   "source": [
    "# 톤업제품 포함하여 주문한 주문번호 리스트\n",
    "toneup_in_ordernum=list(s1.loc[s1['톤업여부'] == True,'주문번호'])\n",
    "t_in=s1[s1['주문번호'].isin(toneup_in_ordernum)] # 톤업 주문 포함한 주문테이블\n",
    "t_not=s1[~s1['주문번호'].isin(toneup_in_ordernum)] # 톤업 주문 포함하지 않은 주문테이블"
   ]
  },
  {
   "cell_type": "code",
   "execution_count": 117,
   "metadata": {},
   "outputs": [],
   "source": [
    "t_in2=s2[s2['주문번호'].isin(toneup_in_ordernum)] # 톤업 주문 포함한 주문테이블\n",
    "t_not2=s2[~s2['주문번호'].isin(toneup_in_ordernum)] # 톤업 주문 포함하지 않은 주문테이블"
   ]
  },
  {
   "cell_type": "markdown",
   "metadata": {},
   "source": [
    "### 1) 구매건당 주문 수량 비교"
   ]
  },
  {
   "cell_type": "code",
   "execution_count": 110,
   "metadata": {},
   "outputs": [],
   "source": [
    "t1=t_in.groupby('결제월')['주문품목 수량'].sum()\n",
    "t2=t_in.groupby('결제월')['주문번호'].nunique()\n",
    "t3=round(t1/t2,2)\n",
    "t_in_num=pd.concat([t1,t2,t3],axis=1) # 월별 주문당 구매제품 수량"
   ]
  },
  {
   "cell_type": "code",
   "execution_count": 111,
   "metadata": {},
   "outputs": [],
   "source": [
    "t1=t_not.groupby('결제월')['주문품목 수량'].sum()\n",
    "t2=t_not.groupby('결제월')['주문번호'].nunique()\n",
    "t3=round(t1/t2,2)\n",
    "t_not_num=pd.concat([t1,t2,t3],axis=1) # 월별 주문당 구매제품 수량"
   ]
  },
  {
   "cell_type": "markdown",
   "metadata": {},
   "source": [
    "### 2) 구매건당 객단가 비교"
   ]
  },
  {
   "cell_type": "code",
   "execution_count": 121,
   "metadata": {},
   "outputs": [],
   "source": [
    "# 주문당 전체 금액 확인하기 위한 테이블 \n",
    "t_in2=t_in2.drop_duplicates('주문번호').reset_index().drop(['index'],axis=1)\n",
    "t_not2=t_not2.drop_duplicates('주문번호').reset_index().drop(['index'],axis=1)"
   ]
  },
  {
   "cell_type": "code",
   "execution_count": 130,
   "metadata": {},
   "outputs": [],
   "source": [
    "t1=t_in2.groupby('결제월')['결제금액(주문전체)'].sum()\n",
    "t2=t_in2.groupby('결제월')['주문번호'].nunique()\n",
    "t3=round(t1/t2,2)\n",
    "t_in_order=pd.concat([t1,t2,t3],axis=1) # 월별 주문당 객단가 "
   ]
  },
  {
   "cell_type": "code",
   "execution_count": 131,
   "metadata": {},
   "outputs": [],
   "source": [
    "t1=t_not2.groupby('결제월')['결제금액(주문전체)'].sum()\n",
    "t2=t_not2.groupby('결제월')['주문번호'].nunique()\n",
    "t3=round(t1/t2,2)\n",
    "t_not_order=pd.concat([t1,t2,t3],axis=1) # 월별 주문당 객단가 "
   ]
  },
  {
   "cell_type": "markdown",
   "metadata": {},
   "source": [
    "### 3) 구매건당 톤업 / 컬러 제품 포함 갯수\n",
    "\n",
    "- 주문번호에서 톤업여부 True 인 상품 컬럼만 추출"
   ]
  },
  {
   "cell_type": "code",
   "execution_count": null,
   "metadata": {},
   "outputs": [],
   "source": []
  },
  {
   "cell_type": "code",
   "execution_count": 150,
   "metadata": {},
   "outputs": [],
   "source": [
    "t1=t_in[t_in['톤업여부']].groupby('결제월')['주문품목 수량'].sum()\n",
    "t2=t_in[t_in['톤업여부']].groupby('결제월')['주문번호'].nunique()\n",
    "t3=round(t1/t2,2)\n",
    "t_in_order2=pd.concat([t1,t2,t3],axis=1) # 월별 주문당 구매제품 수량"
   ]
  },
  {
   "cell_type": "code",
   "execution_count": null,
   "metadata": {},
   "outputs": [],
   "source": []
  }
 ],
 "metadata": {
  "kernelspec": {
   "display_name": "Python 3",
   "language": "python",
   "name": "python3"
  },
  "language_info": {
   "codemirror_mode": {
    "name": "ipython",
    "version": 3
   },
   "file_extension": ".py",
   "mimetype": "text/x-python",
   "name": "python",
   "nbconvert_exporter": "python",
   "pygments_lexer": "ipython3",
   "version": "3.7.4"
  }
 },
 "nbformat": 4,
 "nbformat_minor": 2
}
